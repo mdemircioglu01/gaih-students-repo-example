{
  "nbformat": 4,
  "nbformat_minor": 0,
  "metadata": {
    "colab": {
      "name": "Untitled2.ipynb",
      "provenance": []
    },
    "kernelspec": {
      "name": "python3",
      "display_name": "Python 3"
    }
  },
  "cells": [
    {
      "cell_type": "code",
      "metadata": {
        "id": "egew2MqseyIJ"
      },
      "source": [
        "#Ödevde 30'a kadar olan sayılar tek ve çift sayılar olmak üzere iki listeye kaydedilmişlerdir.\r\n",
        "#Daha sonra bu iki liste birleştirilerek, elemanlarının hepsi iki ile çarpılmıştır.\r\n",
        "#Birleştirilen ve elemanları iki ile çarpılan listenin değerleri ve veri tipleri tek tek yazdırılmıştır.\r\n",
        "\r\n",
        "#1. Ödev\r\n",
        "cift = [x for x in range(30) if x % 2 == 0]\r\n",
        "tek = [x for x in range(30) if x % 2 == 1]\r\n",
        "liste =cift+tek\r\n",
        "cliste = [x*2 for x in liste]\r\n",
        "i=0\r\n",
        "while (i < len(cliste)):\r\n",
        "  print(i, \". eleman: ///\", \"değeri:\", cliste[i], \"/// sınıfı:\", type(cliste[i]))\r\n",
        "  i+=1"
      ],
      "execution_count": null,
      "outputs": []
    }
  ]
}