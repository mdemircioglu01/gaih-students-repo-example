{
 "cells": [
  {
   "cell_type": "code",
   "execution_count": 1,
   "metadata": {},
   "outputs": [
    {
     "name": "stdout",
     "output_type": "stream",
     "text": [
      "Bir sesin yarım ton kalınlaştırılacağını gösteren nota işareti hangisidir?bemol\n",
      "Halk arasında, sır tutamayan kişilerin ağzında ne ıslanmadığı söylenir?bakla\n",
      "Akçaabat, İnegöl, Tire gibi yerlerin hangi tür yiyeceği meşhurdur?köfte\n",
      "“Yerden göğe” sözü özellikle hangisini vurgulamak için kullanılır?sfwssg\n",
      "Son yıllarda kolye uçlarında sıkça kullanılan, ince sivri gövdeli, dar ve uzun kanatlara sahip böcek türü hangisidir?sdfsg\n",
      "Bir iltifat olarak kullanılan sözde, gülündüğünde yüzde açtığı söylenen çiçek hangisidir?gül\n",
      "Eski binaların duvarlarını özellikle hangi bitkinin kapladığı görülür?sfgg\n",
      "“Yannis Ritsos, Louis Aragon, Pablo Neruda” hangi alanda eserler vermiş isimlerdir?şiir\n",
      "Yemek yaparken kıyafetlerin kirlenmemesi için kullanılan, bele bağlanan, boyundan askılı giysiye ne ad verilir?önlük\n",
      "Birbirine çok benzeyen kişiler, hangi meyvenin iki yarısına benzetilir?elma\n",
      "Başarılı oldunuz!!  Puanınız:60\n"
     ]
    }
   ],
   "source": [
    "#Final projesi\n",
    "#Bu projede 10 soruluk bir sınav yapılmıştır.\n",
    "#Cevaplarda harf duyarlılığı yoktur. \n",
    "#Bunun için cevaplar büyük harfle yazılmış ve istenen cevapta daha sonra upper() komutu ile büyük harfe çevrilmiştir.\n",
    "#Her soru 10 puandır ve 50 ve 50 puandan az alınmış ise başarısız, 50 puandan fazla alınmış başarılı çıktısı verilmişir.\n",
    "\n",
    "puan=0\n",
    "yarisma={\"Bir sesin yarım ton kalınlaştırılacağını gösteren nota işareti hangisidir?\":\"BEMOL\",\n",
    "          \"Halk arasında, sır tutamayan kişilerin ağzında ne ıslanmadığı söylenir?\":\"BAKLA\",\n",
    "          \"Akçaabat, İnegöl, Tire gibi yerlerin hangi tür yiyeceği meşhurdur?\":\"KÖFTE\",\n",
    "          \"“Yerden göğe” sözü özellikle hangisini vurgulamak için kullanılır?\":\"HAKLILIK\",\n",
    "          \"Son yıllarda kolye uçlarında sıkça kullanılan, ince sivri gövdeli, dar ve uzun kanatlara sahip böcek türü hangisidir?\":\"YUSUFÇUK\",\n",
    "          \"Bir iltifat olarak kullanılan sözde, gülündüğünde yüzde açtığı söylenen çiçek hangisidir?\":\"GÜL\",\n",
    "          \"Eski binaların duvarlarını özellikle hangi bitkinin kapladığı görülür?\":\"SARMAŞIK\",\n",
    "          \"“Yannis Ritsos, Louis Aragon, Pablo Neruda” hangi alanda eserler vermiş isimlerdir?\":\"ŞİİR\",\n",
    "          \"Yemek yaparken kıyafetlerin kirlenmemesi için kullanılan, bele bağlanan, boyundan askılı giysiye ne ad verilir?\":\"ÖNLÜK\",\n",
    "          \"Birbirine çok benzeyen kişiler, hangi meyvenin iki yarısına benzetilir?\":\"ELMA\"}\n",
    "\n",
    "for k,c in yarisma.items():\n",
    "    cevap=input(k)\n",
    "    if cevap.upper()==c:\n",
    "     puan += 10\n",
    "if puan > 50:\n",
    "    print(\"Başarılı oldunuz!! \"+\" Puanınız:\"+str(puan))\n",
    "else :\n",
    "    print(\"Başarısız oldunuz!! \"+\" Puanınız:\"+str(puan))"
   ]
  },
  {
   "cell_type": "code",
   "execution_count": null,
   "metadata": {},
   "outputs": [],
   "source": []
  }
 ],
 "metadata": {
  "kernelspec": {
   "display_name": "Python 3",
   "language": "python",
   "name": "python3"
  },
  "language_info": {
   "codemirror_mode": {
    "name": "ipython",
    "version": 3
   },
   "file_extension": ".py",
   "mimetype": "text/x-python",
   "name": "python",
   "nbconvert_exporter": "python",
   "pygments_lexer": "ipython3",
   "version": "3.8.5"
  }
 },
 "nbformat": 4,
 "nbformat_minor": 4
}
