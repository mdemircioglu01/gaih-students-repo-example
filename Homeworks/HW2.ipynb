{
 "cells": [
  {
   "cell_type": "code",
   "execution_count": 1,
   "metadata": {},
   "outputs": [
    {
     "name": "stdout",
     "output_type": "stream",
     "text": [
      " Ad Soyad: Sergen Yalçın   Yaş:30  Üniversite:Çukurova Üniversitesi  Bildiği Programlama Dili: Python\n",
      " Ad Soyad: Murat Demir   Yaş:25  Üniversite:İstanbul Üniversitesi  Bildiği Programlama Dili: C++\n",
      " Ad Soyad: Ayşe Uzun   Yaş:33  Üniversite:9 Eylül Üniversitesi  Bildiği Programlama Dili: Python\n",
      " Ad Soyad: İsmail Bulgur   Yaş:27  Üniversite:Çukurova Üniversitesi  Bildiği Programlama Dili: C++\n",
      " Ad Soyad: Kenan Kalav   Yaş:23  Üniversite:Boğazici Üniversitesi  Bildiği Programlama Dili: Visual Basic\n"
     ]
    }
   ],
   "source": [
    "#2. Ödev\n",
    "#CV uygulaması: 5 sözlük oluşturularak 5 farklı kişinin bilgileri oluşturulmuş ve ekrana print edilmiştir.\n",
    "\n",
    "cv1 ={\"isim\":\"Sergen\", \"soyad\":\"Yalçın\", \"yas\":\"30\", \"üniversite\":\"Çukurova\", \"programlama\":\"Python\"}\n",
    "cv2 ={ \"isim\":\"Murat\", \"soyad\":\"Demir\", \"yas\":\"25\", \"üniversite\":\"İstanbul\", \"programlama\":\"C++\"}\n",
    "cv3 ={\"isim\":\"Ayşe\", \"soyad\":\"Uzun\", \"yas\":\"33\", \"üniversite\":\"9 Eylül\", \"programlama\":\"Python\"}\n",
    "cv4 ={\"isim\":\"İsmail\", \"soyad\":\"Bulgur\", \"yas\":\"27\", \"üniversite\":\"Çukurova\", \"programlama\":\"C++\"}\n",
    "cv5 ={\"isim\":\"Kenan\", \"soyad\":\"Kalav\", \"yas\":\"23\", \"üniversite\":\"Boğazici\", \"programlama\":\"Visual Basic\"}\n",
    "print( \" Ad Soyad: \"+cv1[\"isim\"]+\" \"+cv1[\"soyad\"]+\"   Yaş:\"+cv1[\"yas\"]+\"  Üniversite:\"+cv1[\"üniversite\"]+\" Üniversitesi\"+\"  Bildiği Programlama Dili: \"+cv1[\"programlama\"])\n",
    "print(\" Ad Soyad: \"+cv2[\"isim\"]+\" \"+cv2[\"soyad\"]+\"   Yaş:\"+cv2[\"yas\"]+\"  Üniversite:\"+cv2[\"üniversite\"]+\" Üniversitesi\"+\"  Bildiği Programlama Dili: \"+cv2[\"programlama\"])\n",
    "print( \" Ad Soyad: \"+cv3[\"isim\"]+\" \"+cv3[\"soyad\"]+\"   Yaş:\"+cv3[\"yas\"]+\"  Üniversite:\"+cv3[\"üniversite\"]+\" Üniversitesi\"+\"  Bildiği Programlama Dili: \"+cv3[\"programlama\"])\n",
    "print( \" Ad Soyad: \"+cv4[\"isim\"]+\" \"+cv4[\"soyad\"]+\"   Yaş:\"+cv4[\"yas\"]+\"  Üniversite:\"+cv4[\"üniversite\"]+\" Üniversitesi\"+\"  Bildiği Programlama Dili: \"+cv4[\"programlama\"])\n",
    "print( \" Ad Soyad: \"+cv5[\"isim\"]+\" \"+cv5[\"soyad\"]+\"   Yaş:\"+cv5[\"yas\"]+\"  Üniversite:\"+cv5[\"üniversite\"]+\" Üniversitesi\"+\"  Bildiği Programlama Dili: \"+cv5[\"programlama\"])"
   ]
  },
  {
   "cell_type": "code",
   "execution_count": null,
   "metadata": {},
   "outputs": [],
   "source": []
  }
 ],
 "metadata": {
  "kernelspec": {
   "display_name": "Python 3",
   "language": "python",
   "name": "python3"
  },
  "language_info": {
   "codemirror_mode": {
    "name": "ipython",
    "version": 3
   },
   "file_extension": ".py",
   "mimetype": "text/x-python",
   "name": "python",
   "nbconvert_exporter": "python",
   "pygments_lexer": "ipython3",
   "version": "3.8.5"
  }
 },
 "nbformat": 4,
 "nbformat_minor": 4
}
