{
 "cells": [
  {
   "cell_type": "code",
   "execution_count": 1,
   "metadata": {},
   "outputs": [
    {
     "name": "stdout",
     "output_type": "stream",
     "text": [
      "Lütfen öğrenci ismini giriniz:gdfhdg\n",
      "gdfhdg in notlarını giriniz.\n",
      "Lütfen vize notunuz giriniz:50\n",
      "Lütfen proje notunuz giriniz:60\n",
      "Lütfen final notunuz giriniz:70\n",
      "Lütfen öğrenci ismini giriniz:Mert\n",
      "Mert in notlarını giriniz.\n",
      "Lütfen vize notunuz giriniz:70\n",
      "Lütfen proje notunuz giriniz:10\n",
      "Lütfen final notunuz giriniz:20\n",
      "Lütfen öğrenci ismini giriniz:Ahmet\n",
      "Ahmet in notlarını giriniz.\n",
      "Lütfen vize notunuz giriniz:30\n",
      "Lütfen proje notunuz giriniz:10\n",
      "Lütfen final notunuz giriniz:5\n",
      "Lütfen öğrenci ismini giriniz:Mehmet\n",
      "Mehmet in notlarını giriniz.\n",
      "Lütfen vize notunuz giriniz:100\n",
      "Lütfen proje notunuz giriniz:90\n",
      "Lütfen final notunuz giriniz:95\n",
      "Lütfen öğrenci ismini giriniz:elif\n",
      "elif in notlarını giriniz.\n",
      "Lütfen vize notunuz giriniz:100\n",
      "Lütfen proje notunuz giriniz:100\n",
      "Lütfen final notunuz giriniz:100\n",
      "[100.0, 95.0, 61.0, 32.0, 14.0]\n"
     ]
    }
   ],
   "source": [
    "#3. Ödev\n",
    "#Bu ödevde 5 öğrenci ismi girilmesi istenerek ogrenci listesine kaydedilmiştir.\n",
    "#Daha sonra bu öğrencilerin vize, proje ve final notlarının girilmesi istenmiştir.\n",
    "#Öğrenci notlarının belirtilen formüle göre ortalaması alınmış ve büyükten küçüğe doğru sıralanmıştır. \n",
    "\n",
    "ogrenci=list()\n",
    "notlar=list()\n",
    "ortalamalar=list()\n",
    "for i in range(0,5):\n",
    "    isim=input(\"Lütfen öğrenci ismini giriniz:\")\n",
    "    ogrenci.append(isim)\n",
    "    notlar.append(i)\n",
    "    print(ogrenci[i]+\" in notlarını giriniz.\")\n",
    "    notlar[i]={\"vize\":0, \"proje\":0, \"final\":0, \"ortamala\":0}\n",
    "    notlar[i][\"vize\"]=int(input(\"Lütfen vize notunuz giriniz:\"))\n",
    "    notlar[i][\"proje\"]=int(input(\"Lütfen proje notunuz giriniz:\"))\n",
    "    notlar[i][\"final\"]=int(input(\"Lütfen final notunuz giriniz:\"))\n",
    "    notlar[i][\"ortalama\"]=notlar[i][\"vize\"]*0.3+notlar[i][\"proje\"]*0.3+notlar[i][\"final\"]*0.4\n",
    "    ortalamalar.append(notlar[i][\"ortalama\"])\n",
    "ortalamalar.sort()\n",
    "bortalamalar=ortalamalar[::-1]\n",
    "print(bortalamalar)"
   ]
  },
  {
   "cell_type": "code",
   "execution_count": null,
   "metadata": {},
   "outputs": [],
   "source": []
  }
 ],
 "metadata": {
  "kernelspec": {
   "display_name": "Python 3",
   "language": "python",
   "name": "python3"
  },
  "language_info": {
   "codemirror_mode": {
    "name": "ipython",
    "version": 3
   },
   "file_extension": ".py",
   "mimetype": "text/x-python",
   "name": "python",
   "nbconvert_exporter": "python",
   "pygments_lexer": "ipython3",
   "version": "3.8.5"
  }
 },
 "nbformat": 4,
 "nbformat_minor": 4
}
